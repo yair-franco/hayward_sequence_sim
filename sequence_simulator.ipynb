{
 "cells": [
  {
   "cell_type": "markdown",
   "metadata": {},
   "source": [
    "# Hayward Fault Sequence Simulator\n",
    "\n",
    "### By Yair Franco\n",
    "##### Started April 24, 2024"
   ]
  },
  {
   "cell_type": "code",
   "execution_count": 2,
   "metadata": {},
   "outputs": [],
   "source": [
    "import numpy as np\n",
    "from datetime import datetime"
   ]
  },
  {
   "cell_type": "markdown",
   "metadata": {},
   "source": [
    "## Time Model\n",
    "\n",
    "Based on Lienkaemper, 2010: https://doi.org/10.1785/0120090129"
   ]
  },
  {
   "cell_type": "code",
   "execution_count": 103,
   "metadata": {},
   "outputs": [],
   "source": [
    "present = datetime.now().year #or manual input to simulate what this code would do in the future\n",
    "\n",
    "dates = [1868, 1725, 1629, 1475, 1317, 1134, 957, 822, 660, 444, 247, 91]\n",
    "errors = [0, 38, 46, 47, 44, 77, 21, 40, 10, 42, 40, 40]\n"
   ]
  },
  {
   "cell_type": "code",
   "execution_count": 109,
   "metadata": {},
   "outputs": [
    {
     "name": "stdout",
     "output_type": "stream",
     "text": [
      "[[1868, 1868, 1868], [1687, 1725, 1763], [1583, 1629, 1675], [1428, 1475, 1522], [1273, 1317, 1361], [1057, 1134, 1211], [936, 957, 978], [782, 822, 862], [650, 660, 670], [402, 444, 486], [207, 247, 287], [51, 91, 131]]\n"
     ]
    }
   ],
   "source": [
    "timeset = []\n",
    "\n",
    "for i in range(len(dates)):\n",
    "    r = [dates[i]-errors[i],dates[i],dates[i]+errors[i]]\n",
    "    timeset.append(r)\n",
    "\n",
    "print(timeset)"
   ]
  },
  {
   "cell_type": "markdown",
   "metadata": {},
   "source": [
    "### Create fake sequences to test\n",
    "\n",
    "Values to test: \n",
    "\n",
    "Lienkaemper, 2010 gives RI of 170 and SD of 82\n",
    "\n",
    "Parsons, 2008 (https://doi.org/10.1029/2008GL035887) gives an RI of 210 years and coeff. of var. 0.6 (SD = 126)\n",
    "\n",
    "Parsons, 2012 (https://doi.org/10.1029/2012GL052275) gives an RI of 211, -SD = 95, +SD = 173"
   ]
  },
  {
   "cell_type": "code",
   "execution_count": 110,
   "metadata": {},
   "outputs": [
    {
     "name": "stdout",
     "output_type": "stream",
     "text": [
      "Sequence 1 puts the 1868 earthquake in the year 2246 instead.\n",
      "Sequence 2 puts the 1868 earthquake in the year 1836 instead.\n",
      "Sequence 3 puts the 1868 earthquake in the year 1768 instead.\n",
      "Sequence 4 puts the 1868 earthquake in the year 1933 instead.\n",
      "Sequence 5 puts the 1868 earthquake in the year 2173 instead.\n",
      "Sequence 6 puts the 1868 earthquake in the year 1965 instead.\n",
      "Sequence 7 puts the 1868 earthquake in the year 1629 instead.\n",
      "Sequence 8 puts the 1868 earthquake in the year 1791 instead.\n",
      "Sequence 9 puts the 1868 earthquake in the year 1763 instead.\n",
      "Sequence 10 puts the 1868 earthquake in the year 1761 instead.\n",
      "Sequence 11 puts the 1868 earthquake in the year 1941 instead.\n",
      "Sequence 12 puts the 1868 earthquake in the year 1916 instead.\n",
      "Sequence 13 puts the 1868 earthquake in the year 1727 instead.\n",
      "Sequence 14 puts the 1868 earthquake in the year 1705 instead.\n",
      "Sequence 15 puts the 1868 earthquake in the year 1701 instead.\n",
      "Sequence 16 puts the 1868 earthquake in the year 1993 instead.\n",
      "Sequence 17 puts the 1868 earthquake in the year 2148 instead.\n",
      "Sequence 18 puts the 1868 earthquake in the year 1945 instead.\n",
      "Sequence 19 puts the 1868 earthquake in the year 1893 instead.\n"
     ]
    }
   ],
   "source": [
    "ri = 170\n",
    "sd = 82\n",
    "\n",
    "\n",
    "for i in range(19):\n",
    "    startyear = dates[-1] + np.random.randint(-errors[-1],errors[-1])\n",
    "    fakeseq = [startyear]\n",
    "\n",
    "    for j in range(len(dates)-1):\n",
    "        nextevent = fakeseq[j] + ri + np.random.randint(-sd,sd)\n",
    "        fakeseq.append(nextevent)\n",
    "\n",
    "    #print(fakeseq)\n",
    "    print(f'Sequence {i+1} puts the 1868 earthquake in the year {fakeseq[-1]} instead.')"
   ]
  },
  {
   "cell_type": "markdown",
   "metadata": {},
   "source": [
    "Let's count how long it takes for fake sequences to place the 1868 earthquake on the correct year."
   ]
  },
  {
   "cell_type": "code",
   "execution_count": 111,
   "metadata": {},
   "outputs": [
    {
     "name": "stdout",
     "output_type": "stream",
     "text": [
      "It took 113 tries to generate a sequence placing the 1868 earthquake on the correct year\n",
      "This sequence places the next Hayward earthquake in the year 2009\n",
      "Successful sequence: [109, 213, 399, 490, 659, 770, 1003, 1239, 1431, 1520, 1701, 1868, 2009]\n",
      "Lienkaemper sequence: [91, 247, 444, 660, 822, 957, 1134, 1317, 1475, 1629, 1725, 1868]\n"
     ]
    }
   ],
   "source": [
    "success = False\n",
    "att = 0\n",
    "\n",
    "while success == False:\n",
    "    att += 1\n",
    "    #print(att)\n",
    "    startyear = dates[-1] + np.random.randint(-errors[-1],errors[-1])\n",
    "    fakeseq = [startyear]\n",
    "\n",
    "    for j in range(len(dates)):\n",
    "        nextevent = fakeseq[j] + ri + np.random.randint(-sd,sd)\n",
    "        fakeseq.append(nextevent)\n",
    "\n",
    "    #print(fakeseq)\n",
    "    success = fakeseq[-2] == dates[0] #is the 12th generated earthquake in 1868?\n",
    "\n",
    "print(f'It took {att} tries to generate a sequence placing the 1868 earthquake on the correct year')\n",
    "print(f'This sequence places the next Hayward earthquake in the year {fakeseq[-1]}')\n",
    "print(f'Successful sequence: {fakeseq}')\n",
    "print(f'Lienkaemper sequence: {list(reversed(dates))}')"
   ]
  },
  {
   "cell_type": "markdown",
   "metadata": {},
   "source": [
    "Let's add another constraint: the 13th earthquake generated should be before the present (since there hasn't been one since 1868)."
   ]
  },
  {
   "cell_type": "code",
   "execution_count": 128,
   "metadata": {},
   "outputs": [
    {
     "name": "stdout",
     "output_type": "stream",
     "text": [
      "It took 61416 tries to generate a sequence placing the 1868 earthquake on the correct year\n",
      "This sequence places the next Hayward earthquake in the year 2024\n",
      "Successful sequence: [66, 258, 433, 629, 747, 985, 1119, 1231, 1415, 1506, 1672, 1868, 2024]\n",
      "Lienkaemper sequence: [91, 247, 444, 660, 822, 957, 1134, 1317, 1475, 1629, 1725, 1868]\n"
     ]
    }
   ],
   "source": [
    "ri = 170\n",
    "sd = 82\n",
    "success = False\n",
    "att = 0\n",
    "\n",
    "while success == False:\n",
    "    att += 1\n",
    "    #print(att)\n",
    "    startyear = dates[-1] + np.random.randint(-errors[-1],errors[-1])\n",
    "    fakeseq = [startyear]\n",
    "\n",
    "    for j in range(len(dates)):\n",
    "        nextevent = fakeseq[j] + ri + np.random.randint(-sd,sd)\n",
    "        fakeseq.append(nextevent)\n",
    "\n",
    "    #if fakeseq[-2] == dates[0] or fakeseq[-1] == present: print(fakeseq[-2],fakeseq[-1])\n",
    "\n",
    "    if fakeseq[-2] == dates[0] and fakeseq[-1] == present:\n",
    "        success = True\n",
    "\n",
    "\n",
    "\n",
    "print(f'It took {att} tries to generate a sequence placing the 1868 earthquake on the correct year')\n",
    "print(f'This sequence places the next Hayward earthquake in the year {fakeseq[-1]}')\n",
    "print(f'Successful sequence: {fakeseq}') \n",
    "print(f'Lienkaemper sequence: {list(reversed(dates))}')"
   ]
  },
  {
   "cell_type": "code",
   "execution_count": 120,
   "metadata": {},
   "outputs": [
    {
     "data": {
      "text/plain": [
       "[116, 303, 536, 649, 898, 1028]"
      ]
     },
     "execution_count": 120,
     "metadata": {},
     "output_type": "execute_result"
    }
   ],
   "source": []
  },
  {
   "cell_type": "code",
   "execution_count": null,
   "metadata": {},
   "outputs": [],
   "source": []
  }
 ],
 "metadata": {
  "kernelspec": {
   "display_name": "base",
   "language": "python",
   "name": "python3"
  },
  "language_info": {
   "codemirror_mode": {
    "name": "ipython",
    "version": 3
   },
   "file_extension": ".py",
   "mimetype": "text/x-python",
   "name": "python",
   "nbconvert_exporter": "python",
   "pygments_lexer": "ipython3",
   "version": "3.9.12"
  }
 },
 "nbformat": 4,
 "nbformat_minor": 2
}
