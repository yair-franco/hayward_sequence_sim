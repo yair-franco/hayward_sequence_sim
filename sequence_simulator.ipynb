{
 "cells": [
  {
   "cell_type": "markdown",
   "metadata": {},
   "source": [
    "# Hayward Fault Sequence Simulator\n",
    "\n",
    "### By Yair Franco\n",
    "##### Started April 24, 2024\n",
    "\n",
    "Note: this code requires Python v3.10.0 or higher to run"
   ]
  },
  {
   "cell_type": "code",
   "execution_count": 1,
   "metadata": {},
   "outputs": [],
   "source": [
    "import numpy as np\n",
    "import matplotlib.pyplot as plt\n",
    "from datetime import datetime"
   ]
  },
  {
   "cell_type": "markdown",
   "metadata": {},
   "source": [
    "## Time Model\n",
    "\n",
    "Based on Lienkaemper, 2010: https://doi.org/10.1785/0120090129"
   ]
  },
  {
   "cell_type": "code",
   "execution_count": 2,
   "metadata": {},
   "outputs": [],
   "source": [
    "present = datetime.now().year #or manual input to simulate what this code would do in the future\n",
    "\n",
    "# dates = [1868, 1725, 1629, 1475, 1317, 1134, 957, 822, 660, 444, 247, 91]\n",
    "# errors = [0, 38, 46, 47, 44, 77, 21, 40, 10, 42, 40, 40]\n",
    "\n",
    "dates = [91, 247, 444, 660, 822, 957, 1134, 1317, 1475, 1629, 1725, 1868]\n",
    "errors = [40, 40, 42,10, 40, 21, 77, 44, 47, 46, 38, 0]"
   ]
  },
  {
   "cell_type": "code",
   "execution_count": 3,
   "metadata": {},
   "outputs": [
    {
     "name": "stdout",
     "output_type": "stream",
     "text": [
      "[[51, 91, 131], [207, 247, 287], [402, 444, 486], [650, 660, 670], [782, 822, 862], [936, 957, 978], [1057, 1134, 1211], [1273, 1317, 1361], [1428, 1475, 1522], [1583, 1629, 1675], [1687, 1725, 1763], [1868, 1868, 1868]]\n"
     ]
    }
   ],
   "source": [
    "timeset = []\n",
    "\n",
    "for i in range(len(dates)):\n",
    "    r = [dates[i]-errors[i],dates[i],dates[i]+errors[i]]\n",
    "    timeset.append(r)\n",
    "\n",
    "print(timeset)"
   ]
  },
  {
   "cell_type": "markdown",
   "metadata": {},
   "source": [
    "### Create fake sequences to test\n",
    "\n",
    "Values to test: \n",
    "\n",
    "Lienkaemper, 2010 gives RI of 161 and SD of 65\n",
    "\n",
    "Parsons, 2008 (https://doi.org/10.1029/2008GL035887) gives an RI of 210 years and coeff. of var. 0.6 (SD = 126)\n",
    "\n",
    "Parsons, 2012 (https://doi.org/10.1029/2012GL052275) gives an RI of 211, -SD = 95, +SD = 173"
   ]
  },
  {
   "cell_type": "code",
   "execution_count": 4,
   "metadata": {},
   "outputs": [
    {
     "name": "stdout",
     "output_type": "stream",
     "text": [
      "Sequence 1 puts the 1868 earthquake in the year 2044 instead.\n",
      "Sequence 2 puts the 1868 earthquake in the year 1898 instead.\n",
      "Sequence 3 puts the 1868 earthquake in the year 1808 instead.\n",
      "Sequence 4 puts the 1868 earthquake in the year 2020 instead.\n",
      "Sequence 5 puts the 1868 earthquake in the year 1855 instead.\n",
      "Sequence 6 puts the 1868 earthquake in the year 1694 instead.\n",
      "Sequence 7 puts the 1868 earthquake in the year 1833 instead.\n",
      "Sequence 8 puts the 1868 earthquake in the year 1885 instead.\n",
      "Sequence 9 puts the 1868 earthquake in the year 1928 instead.\n",
      "Sequence 10 puts the 1868 earthquake in the year 2032 instead.\n",
      "Sequence 11 puts the 1868 earthquake in the year 1744 instead.\n",
      "Sequence 12 puts the 1868 earthquake in the year 1830 instead.\n",
      "Sequence 13 puts the 1868 earthquake in the year 1893 instead.\n",
      "Sequence 14 puts the 1868 earthquake in the year 1784 instead.\n",
      "Sequence 15 puts the 1868 earthquake in the year 1766 instead.\n",
      "Sequence 16 puts the 1868 earthquake in the year 1700 instead.\n",
      "Sequence 17 puts the 1868 earthquake in the year 1926 instead.\n",
      "Sequence 18 puts the 1868 earthquake in the year 1753 instead.\n",
      "Sequence 19 puts the 1868 earthquake in the year 1989 instead.\n"
     ]
    }
   ],
   "source": [
    "ri = 161\n",
    "sd = 65\n",
    "\n",
    "\n",
    "for i in range(19):\n",
    "    startyear = dates[0] + np.random.randint(-errors[0],errors[0])\n",
    "    fakeseq = [startyear]\n",
    "\n",
    "    for j in range(len(dates)-1):\n",
    "        nextevent = fakeseq[j] + ri + np.random.randint(-sd,sd)\n",
    "        fakeseq.append(nextevent)\n",
    "\n",
    "    #print(fakeseq)\n",
    "    print(f'Sequence {i+1} puts the 1868 earthquake in the year {fakeseq[-1]} instead.')"
   ]
  },
  {
   "cell_type": "markdown",
   "metadata": {},
   "source": [
    "Let's count how long it takes for fake sequences to place the 1868 earthquake on the correct year."
   ]
  },
  {
   "cell_type": "code",
   "execution_count": 5,
   "metadata": {},
   "outputs": [
    {
     "name": "stdout",
     "output_type": "stream",
     "text": [
      "It took 187 tries to generate a sequence placing the 1868 earthquake on the correct year\n",
      "This sequence places the next Hayward earthquake in the year 2074\n",
      "Successful sequence: [117, 254, 387, 604, 731, 832, 1045, 1223, 1439, 1544, 1690, 1868, 2074]\n",
      "Lienkaemper sequence: [91, 247, 444, 660, 822, 957, 1134, 1317, 1475, 1629, 1725, 1868]\n"
     ]
    }
   ],
   "source": [
    "success = False\n",
    "att = 0\n",
    "\n",
    "while success == False:\n",
    "    att += 1\n",
    "    #print(att)\n",
    "    startyear = dates[0] + np.random.randint(-errors[0],errors[0])\n",
    "    fakeseq = [startyear]\n",
    "\n",
    "    for j in range(len(dates)):\n",
    "        nextevent = fakeseq[j] + ri + np.random.randint(-sd,sd)\n",
    "        fakeseq.append(nextevent)\n",
    "\n",
    "    #print(fakeseq)\n",
    "    success = fakeseq[-2] == dates[-1] #is the 12th generated earthquake in 1868?\n",
    "\n",
    "print(f'It took {att} tries to generate a sequence placing the 1868 earthquake on the correct year')\n",
    "print(f'This sequence places the next Hayward earthquake in the year {fakeseq[-1]}')\n",
    "print(f'Successful sequence: {fakeseq}')\n",
    "print(f'Lienkaemper sequence: {dates}')"
   ]
  },
  {
   "cell_type": "markdown",
   "metadata": {},
   "source": [
    "Let's add another constraint: the 13th earthquake generated should be after the present (since there hasn't been one since 1868)."
   ]
  },
  {
   "cell_type": "code",
   "execution_count": 6,
   "metadata": {},
   "outputs": [
    {
     "name": "stdout",
     "output_type": "stream",
     "text": [
      "It took 25 tries to generate a sequence placing the 1868 earthquake on the correct year\n",
      "This sequence places the next Hayward earthquake in the year 2028\n",
      "Successful sequence: [85, 293, 483, 657, 834, 1057, 1218, 1347, 1447, 1550, 1720, 1868, 2028]\n",
      "Lienkaemper sequence: [91, 247, 444, 660, 822, 957, 1134, 1317, 1475, 1629, 1725, 1868]\n"
     ]
    }
   ],
   "source": [
    "ri = 161\n",
    "sd = 65\n",
    "success = False\n",
    "att = 0\n",
    "\n",
    "while success == False:\n",
    "    att += 1\n",
    "    #print(att)\n",
    "    startyear = dates[0] + np.random.randint(-errors[0],errors[0])\n",
    "    fakeseq = [startyear]\n",
    "\n",
    "    for j in range(len(dates)):\n",
    "        nextevent = fakeseq[j] + ri + np.random.randint(-sd,sd)\n",
    "        fakeseq.append(nextevent)\n",
    "\n",
    "    #if fakeseq[-2] == dates[0] or fakeseq[-1] == present: print(fakeseq[-2],fakeseq[-1])\n",
    "\n",
    "    if fakeseq[-2] == dates[-1] and fakeseq[-1] > present:\n",
    "        success = True\n",
    "\n",
    "\n",
    "\n",
    "print(f'It took {att} tries to generate a sequence placing the 1868 earthquake on the correct year')\n",
    "print(f'This sequence places the next Hayward earthquake in the year {fakeseq[-1]}')\n",
    "print(f'Successful sequence: {fakeseq}') \n",
    "print(f'Lienkaemper sequence: {dates}')"
   ]
  },
  {
   "cell_type": "markdown",
   "metadata": {},
   "source": [
    "This function returns the recurrence intervals for any given sequence. It'll be useful later"
   ]
  },
  {
   "cell_type": "code",
   "execution_count": 43,
   "metadata": {},
   "outputs": [],
   "source": [
    "def calcRI(seq,getMean=0): #setting get mean to 1 will calculate RI mean and sd for the given sequence\n",
    "    ri = []\n",
    "\n",
    "    for i in range(len(seq)-1):\n",
    "        interval = seq[i+1] - seq[i]\n",
    "        ri.append(interval)\n",
    "\n",
    "    match getMean:\n",
    "        case 0:\n",
    "            return ri\n",
    "\n",
    "        case 1:\n",
    "            mean = int(np.mean(ri))\n",
    "            sd = int(np.std(ri))\n",
    "            return ri, mean, sd\n",
    "        \n",
    "    # if getMean == 0: #for python versions older than 3.10, replace 'match' code with this\n",
    "    #     return ri\n",
    "    # elif getMean == 1:\n",
    "    #     mean = int(np.mean(ri))\n",
    "        # sd = int(np.std(ri))\n",
    "    #     return ri, mean, sd"
   ]
  },
  {
   "cell_type": "markdown",
   "metadata": {},
   "source": [
    "Now let's use Numpy's Gaussian RNG to favor the mean Lienkaemper dates, instead of using the average RI for the whole sequence. Additionally, let's consider all sequences placing the next earthquake before 2024 as fails (since the next earthquake has not happened yet).\n",
    "\n",
    "Obviously, this will always return a sequence with an earthquake in 1868, since we know this event's exact date.\n",
    "\n",
    "Since we do not know when the next earthquake will happen, we'll use the calculate the mean and SD of the RIs for our generated sequence, and make a guess based on the results."
   ]
  },
  {
   "cell_type": "code",
   "execution_count": 96,
   "metadata": {},
   "outputs": [
    {
     "name": "stdout",
     "output_type": "stream",
     "text": [
      "Attempt count: 4\n",
      "This sequence places the next Hayward earthquake in the year 2031\n",
      "This sequence: [73, 241, 428, 668, 820, 951, 1094, 1309, 1460, 1574, 1734, 1868, 2031]\n",
      "Lienkaemper sequence: [91, 247, 444, 660, 822, 957, 1134, 1317, 1475, 1629, 1725, 1868]\n"
     ]
    }
   ],
   "source": [
    "success = False\n",
    "att = 0\n",
    "\n",
    "while success == False:\n",
    "    att += 1\n",
    "    seq = []\n",
    "\n",
    "    for j in range(len(dates)):\n",
    "        event = int(np.random.normal(dates[j],errors[j])) #random guess assuming normal distributions of given standard deviations\n",
    "        seq.append(event)\n",
    "\n",
    "    mean, sd = calcRI(seq,1)[1], calcRI(seq,1)[2] #mean RI for all events in this synthetic sequence\n",
    "    nextevent = seq[-1] + int(np.random.normal(mean, sd))\n",
    "    seq.append(nextevent)\n",
    "\n",
    "    if seq[-1] > present:\n",
    "        success = True #is the 12th generated earthquake in 1868? Is the next one in the future?\n",
    "\n",
    "print(f'Attempt count: {att}')\n",
    "print(f'This sequence places the next Hayward earthquake in the year {seq[-1]}')\n",
    "print(f'This sequence: {seq}')\n",
    "print(f'Lienkaemper sequence: {dates}')"
   ]
  },
  {
   "cell_type": "markdown",
   "metadata": {},
   "source": [
    "Just for fun, let's make a histogram of the years this simulation gives for the next earthquake."
   ]
  },
  {
   "cell_type": "code",
   "execution_count": 198,
   "metadata": {},
   "outputs": [
    {
     "ename": "IndexError",
     "evalue": "list index out of range",
     "output_type": "error",
     "traceback": [
      "\u001b[1;31m---------------------------------------------------------------------------\u001b[0m",
      "\u001b[1;31mIndexError\u001b[0m                                Traceback (most recent call last)",
      "Cell \u001b[1;32mIn[198], line 16\u001b[0m\n\u001b[0;32m     14\u001b[0m \u001b[38;5;28;01mwhile\u001b[39;00m add \u001b[38;5;241m==\u001b[39m \u001b[38;5;28;01mFalse\u001b[39;00m:\n\u001b[0;32m     15\u001b[0m     event \u001b[38;5;241m=\u001b[39m \u001b[38;5;28mint\u001b[39m(np\u001b[38;5;241m.\u001b[39mrandom\u001b[38;5;241m.\u001b[39mnormal(dates[j],errors[j])) \u001b[38;5;66;03m#random guess assuming normal distributions of given standard deviations\u001b[39;00m\n\u001b[1;32m---> 16\u001b[0m     \u001b[38;5;28;01mif\u001b[39;00m event \u001b[38;5;241m<\u001b[39m \u001b[43mseq\u001b[49m\u001b[43m[\u001b[49m\u001b[43mj\u001b[49m\u001b[38;5;241;43m-\u001b[39;49m\u001b[38;5;241;43m1\u001b[39;49m\u001b[43m]\u001b[49m: \u001b[38;5;66;03m#avoids events happening before the previous ones\u001b[39;00m\n\u001b[0;32m     17\u001b[0m         \u001b[38;5;28mprint\u001b[39m(\u001b[38;5;124m'\u001b[39m\u001b[38;5;124mwhoops\u001b[39m\u001b[38;5;124m'\u001b[39m)\n\u001b[0;32m     18\u001b[0m         \u001b[38;5;28;01mbreak\u001b[39;00m\n",
      "\u001b[1;31mIndexError\u001b[0m: list index out of range"
     ]
    }
   ],
   "source": [
    "nextdates = []\n",
    "s = 0\n",
    "\n",
    "for i in range(10):\n",
    "    success = False\n",
    "    att = 0\n",
    "\n",
    "    while success == False:\n",
    "        att += 1\n",
    "        seq = []\n",
    "\n",
    "        for j in range(len(dates)):\n",
    "            add = False\n",
    "            while add == False:\n",
    "                event = int(np.random.normal(dates[j],errors[j])) #random guess assuming normal distributions of given standard deviations\n",
    "                if event < seq[j-1]: #avoids events happening before the previous ones\n",
    "                    print('whoops')\n",
    "                    break\n",
    "                elif event >= seq[j-1]: #todo: fix this so it doesn't break when you're at index 0 to kick event overlaps\n",
    "                    add = True\n",
    "            seq.append(event)\n",
    "\n",
    "        mean, sd = calcRI(seq,1)[1], calcRI(seq,1)[2] #mean RI for all events in this synthetic sequence\n",
    "        nextevent = seq[-1] + int(np.random.normal(mean, sd))\n",
    "        seq.append(nextevent)\n",
    "\n",
    "        nextdates.append(seq[-1])\n",
    "        success = True\n",
    "\n",
    "\n",
    "\n",
    "        # if seq[-1] < present:\n",
    "        #     break\n",
    "        # elif seq[-1] >= present:\n",
    "        #     s += 1\n",
    "        #     success = True #is the 12th generated earthquake in 1868? Is the next one in the future?\n",
    "        #     nextdates.append(seq[-1])\n",
    "\n",
    "# print(f'successful sequences: {s}')\n",
    "print(nextdates)"
   ]
  },
  {
   "cell_type": "code",
   "execution_count": 194,
   "metadata": {},
   "outputs": [
    {
     "data": {
      "image/png": "[encoded data removed]",
      "text/plain": [
       "<Figure size 640x480 with 2 Axes>"
      ]
     },
     "metadata": {},
     "output_type": "display_data"
    }
   ],
   "source": [
    "h = np.array(nextdates)\n",
    "binsize = max(h) - min(h)\n",
    "sigma = np.std(h)\n",
    "mu = np.mean(h)\n",
    "\n",
    "fig, ax = plt.subplots(1, 2, tight_layout=True)\n",
    "\n",
    "count, bins, ignored = ax[0].hist(h, binsize, density=True)\n",
    "gauss = 1 / (sigma * np.sqrt(2 * np.pi)) * np.exp((-1/2)*((bins-mu)/sigma)**2)\n",
    "\n",
    "ax[0].plot(bins, gauss,\n",
    "         linewidth=2, color='r')\n",
    "ax[0].axvline(present,linestyle=':',color='orange',label='Present year')\n",
    "ax[0].axvline(1868,linestyle=':',color='black',label='1868')\n",
    "ax[0].legend()\n",
    "\n",
    "\n",
    "ax[1].hist(h, binsize, density=True)\n",
    "ax[1].plot(bins, gauss,\n",
    "         linewidth=2, color='r')\n",
    "ax[1].set_xlim(2000,2100)\n",
    "ax[1].axvline(2024,linestyle=':',color='orange',label='2024')\n",
    "\n",
    "\n",
    "\n",
    "plt.show()"
   ]
  },
  {
   "cell_type": "code",
   "execution_count": 154,
   "metadata": {},
   "outputs": [
    {
     "data": {
      "text/plain": [
       "[<matplotlib.lines.Line2D at 0x25d5127bad0>]"
      ]
     },
     "execution_count": 154,
     "metadata": {},
     "output_type": "execute_result"
    },
    {
     "data": {
      "image/png": "[encoded data removed]",
      "text/plain": [
       "<Figure size 640x480 with 1 Axes>"
      ]
     },
     "metadata": {},
     "output_type": "display_data"
    }
   ],
   "source": [
    "plt.plot(count)"
   ]
  },
  {
   "cell_type": "code",
   "execution_count": 169,
   "metadata": {},
   "outputs": [
    {
     "data": {
      "text/plain": [
       "array([2024., 2025., 2026., 2027., 2028., 2029., 2030., 2031., 2032.,\n",
       "       2033., 2034., 2035., 2036., 2037., 2038., 2039., 2040., 2041.,\n",
       "       2042., 2043., 2044., 2045., 2046., 2047., 2048., 2049., 2050.,\n",
       "       2051., 2052., 2053., 2054., 2055., 2056., 2057., 2058., 2059.,\n",
       "       2060., 2061., 2062., 2063., 2064., 2065., 2066., 2067., 2068.,\n",
       "       2069., 2070., 2071., 2072., 2073., 2074., 2075., 2076., 2077.,\n",
       "       2078., 2079., 2080., 2081., 2082., 2083., 2084., 2085., 2086.,\n",
       "       2087., 2088., 2089., 2090., 2091., 2092., 2093., 2094., 2095.,\n",
       "       2096., 2097., 2098., 2099., 2100., 2101., 2102., 2103., 2104.,\n",
       "       2105., 2106., 2107., 2108., 2109., 2110., 2111., 2112., 2113.,\n",
       "       2114., 2115., 2116., 2117., 2118., 2119., 2120., 2121., 2122.,\n",
       "       2123., 2124., 2125., 2126., 2127., 2128., 2129., 2130., 2131.,\n",
       "       2132., 2133., 2134., 2135., 2136., 2137., 2138., 2139., 2140.,\n",
       "       2141., 2142., 2143., 2144., 2145., 2146., 2147., 2148., 2149.,\n",
       "       2150., 2151., 2152., 2153., 2154., 2155., 2156., 2157., 2158.,\n",
       "       2159., 2160., 2161., 2162., 2163., 2164., 2165., 2166., 2167.,\n",
       "       2168., 2169., 2170., 2171., 2172., 2173., 2174., 2175., 2176.,\n",
       "       2177., 2178., 2179., 2180., 2181., 2182., 2183., 2184., 2185.,\n",
       "       2186., 2187., 2188., 2189., 2190., 2191., 2192., 2193., 2194.,\n",
       "       2195., 2196., 2197., 2198., 2199., 2200., 2201., 2202., 2203.,\n",
       "       2204., 2205., 2206., 2207., 2208., 2209., 2210., 2211., 2212.,\n",
       "       2213., 2214., 2215., 2216., 2217., 2218., 2219., 2220., 2221.,\n",
       "       2222., 2223., 2224., 2225., 2226., 2227., 2228., 2229., 2230.,\n",
       "       2231., 2232., 2233., 2234., 2235., 2236., 2237., 2238., 2239.,\n",
       "       2240., 2241., 2242., 2243., 2244., 2245., 2246., 2247., 2248.,\n",
       "       2249., 2250., 2251., 2252., 2253., 2254., 2255., 2256., 2257.,\n",
       "       2258., 2259., 2260., 2261., 2262., 2263., 2264., 2265., 2266.,\n",
       "       2267., 2268., 2269., 2270., 2271., 2272., 2273., 2274., 2275.,\n",
       "       2276., 2277., 2278., 2279., 2280., 2281., 2282., 2283., 2284.,\n",
       "       2285., 2286., 2287., 2288., 2289., 2290., 2291., 2292., 2293.,\n",
       "       2294., 2295., 2296., 2297., 2298., 2299., 2300., 2301., 2302.,\n",
       "       2303., 2304., 2305., 2306., 2307., 2308., 2309., 2310., 2311.,\n",
       "       2312., 2313., 2314., 2315., 2316., 2317., 2318., 2319., 2320.,\n",
       "       2321., 2322., 2323., 2324., 2325., 2326., 2327., 2328., 2329.,\n",
       "       2330., 2331., 2332., 2333., 2334., 2335., 2336., 2337., 2338.,\n",
       "       2339., 2340., 2341., 2342., 2343., 2344., 2345., 2346., 2347.,\n",
       "       2348., 2349., 2350., 2351., 2352., 2353., 2354., 2355., 2356.,\n",
       "       2357., 2358., 2359., 2360., 2361., 2362., 2363., 2364., 2365.,\n",
       "       2366., 2367., 2368., 2369., 2370., 2371., 2372., 2373., 2374.,\n",
       "       2375., 2376., 2377., 2378., 2379., 2380., 2381., 2382., 2383.,\n",
       "       2384., 2385., 2386., 2387., 2388., 2389., 2390., 2391., 2392.,\n",
       "       2393., 2394., 2395., 2396., 2397., 2398., 2399., 2400., 2401.,\n",
       "       2402., 2403., 2404., 2405., 2406., 2407., 2408., 2409., 2410.,\n",
       "       2411., 2412., 2413., 2414., 2415., 2416., 2417., 2418., 2419.,\n",
       "       2420., 2421., 2422., 2423., 2424., 2425., 2426., 2427., 2428.,\n",
       "       2429., 2430., 2431., 2432., 2433., 2434., 2435., 2436., 2437.,\n",
       "       2438., 2439., 2440., 2441., 2442., 2443., 2444.])"
      ]
     },
     "execution_count": 169,
     "metadata": {},
     "output_type": "execute_result"
    }
   ],
   "source": [
    "bins"
   ]
  },
  {
   "cell_type": "code",
   "execution_count": null,
   "metadata": {},
   "outputs": [],
   "source": []
  }
 ],
 "metadata": {
  "kernelspec": {
   "display_name": "base",
   "language": "python",
   "name": "python3"
  },
  "language_info": {
   "codemirror_mode": {
    "name": "ipython",
    "version": 3
   },
   "file_extension": ".py",
   "mimetype": "text/x-python",
   "name": "python",
   "nbconvert_exporter": "python",
   "pygments_lexer": "ipython3",
   "version": "3.12.3"
  }
 },
 "nbformat": 4,
 "nbformat_minor": 2
}
